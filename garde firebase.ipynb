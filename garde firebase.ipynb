{
 "cells": [
  {
   "cell_type": "code",
   "execution_count": null,
   "id": "8a0128a5",
   "metadata": {},
   "outputs": [],
   "source": [
    "import firebase_admin\n",
    "from firebase_admin import credentials,db\n",
    "cred=credentials. Certificate(\"C:/Users/dudhe/OneDrive/Desktop/cloud python/cloudpython-c405b-firebase-adminsdk-fbsvc-1afe726db1.json\")\n",
    "if not firebase_admin._apps:\n",
    "    firebase_admin.initialize_app(cred,{\"databaseURL\":\"https://cloudpython-c405b-default-rtdb.firebaseio.com/\"})\n",
    "a=int(input(\"enter the marks\"))\n",
    "totalmarks=0\n",
    "for i in range(6):\n",
    "    marks=int(input(f\"enter the marks{i}\"))\n",
    "    totalmarks += marks\n",
    "    print(totalmarks)\n",
    "avg=totalmarks/6\n",
    "print(avg)\n",
    "if (a>90):\n",
    "    b=\"grade a\"\n",
    "elif (a>70):\n",
    "    b=\"grade b\"\n",
    "elif (a>40):\n",
    "    b=\"grade c\"\n",
    "elif(a>20):\n",
    "    b=\"garde d\"\n",
    "else :\n",
    "    b=\"failed\"\n",
    "print(b)\n",
    "ref=db.reference('grade')\n",
    "ref.push ({\"first number\":b})\n",
    "print(\"data sent\")\n"
   ]
  }
 ],
 "metadata": {
  "language_info": {
   "name": "python"
  }
 },
 "nbformat": 4,
 "nbformat_minor": 5
}
